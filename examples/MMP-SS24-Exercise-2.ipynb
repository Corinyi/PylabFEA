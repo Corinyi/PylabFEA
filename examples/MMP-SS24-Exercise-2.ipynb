{
 "cells": [
  {
   "cell_type": "markdown",
   "metadata": {},
   "source": [
    "# Finite Element Analysis\n",
    "Solve equations to calculate mechanical equilibrium in FEA. The theoretical background of the exercise is covered in Section 2.2 of the script to this lecture."
   ]
  },
  {
   "cell_type": "code",
   "execution_count": 1,
   "metadata": {},
   "outputs": [],
   "source": [
    "import numpy as np"
   ]
  },
  {
   "cell_type": "markdown",
   "metadata": {},
   "source": [
    "## Task 1\n",
    "Fill in the missing code segments marked by \"...\" for the B-matrix and the integration of the stiffness matrix, refers to script Section 2.6, Eq. (2)."
   ]
  },
  {
   "cell_type": "code",
   "execution_count": 2,
   "metadata": {},
   "outputs": [],
   "source": [
    "def Bmatrix(x,L):\n",
    "    # Evaluate B matrix at given point x within 1-d element with quadratic shape function\n",
    "    B = np.zeros((6,3))\n",
    "    h1 = 1./L\n",
    "    h2 = 4./(L*L)\n",
    "    # Missing code segments here:\n",
    "    B[0,0] = ...\n",
    "    B[0,1] = ...\n",
    "    B[0,2] = ...\n",
    "    return B\n",
    "    \n",
    "def calc_Kel(Lel):\n",
    "    # Calculate element stiffness matrix by Gaussian integration\n",
    "    cpos = np.sqrt(1./3.)   # position of Gauss points\n",
    "    wght = 1\n",
    "    Vel  = A*Lel\n",
    "    x1 = 0.5*Lel*(1. - cpos)  # positions of first Gauss point\n",
    "    x2 = 0.5*Lel*(1. + cpos)  # positions of second Gauss point\n",
    "    B1 = Bmatrix(x1,Lel)\n",
    "    B2 = Bmatrix(x2,Lel)\n",
    "    K1 = np.transpose(B1) @ CV @ B1\n",
    "    # Missing code segments here\n",
    "    K2 = ...\n",
    "    Kel = ...\n",
    "    return Kel"
   ]
  },
  {
   "cell_type": "markdown",
   "metadata": {},
   "source": [
    "## Task 2\n",
    "\n",
    "Set the elastic constants in the following code according to Assignment 1 and execute the cell. This will result in the finite element solutions for nodal displacements and forces for mechanical equilibrium under the applied load. Compare this finite element code to the one for the system of springs considering how the system stiffness matrix is setup and how displacement boundary conditions are enforced."
   ]
  },
  {
   "cell_type": "code",
   "execution_count": 4,
   "metadata": {},
   "outputs": [
    {
     "name": "stdout",
     "output_type": "stream",
     "text": [
      "System stiffness matrix for  1 elements:\n",
      " [[ 628133.33333333 -717866.66666667   89733.33333333]\n",
      " [-717866.66666667 1435733.33333333 -717866.66666667]\n",
      " [  89733.33333333 -717866.66666667  628133.33333333]]\n",
      "After solving reduced system of equations:\n",
      "u:  [0.    0.005 0.01 ] \n",
      "F:  [   0.         7178.66666667    0.        ]\n",
      "After calculation of reaction forces:\n",
      "u:  [0.    0.005 0.01 ] \n",
      "F:  [-2.69200000e+03 -1.13056231e-13  2.69200000e+03]\n"
     ]
    }
   ],
   "source": [
    "# Setup Finite Element Model for 1-d elements with quadratic shape function\n",
    "N = 1        # number of elements\n",
    "M = 2*N + 1  # DOF\n",
    "Lel = 1.     # list of lengths of elements (must have dimension N)\n",
    "A = 1.       # cross-sectional area of elements\n",
    "\n",
    "# Define material parameters\n",
    "C11 = ...\n",
    "C12 = ...\n",
    "C44 = ...\n",
    "CV = np.array([[C11, C12, C12, 0.,  0.,  0.], \\\n",
    "               [C12, C11, C12, 0.,  0.,  0.], \\\n",
    "               [C12, C12, C11, 0.,  0.,  0.], \\\n",
    "               [0.,  0.,  0.,  C44, 0.,  0.], \\\n",
    "               [0.,  0.,  0.,  0.,  C44, 0.], \\\n",
    "               [0.,  0.,  0.,  0.,  0.,  C44]])\n",
    "\n",
    "# Initialize system arrays\n",
    "F = np.zeros(M)\n",
    "u = np.zeros(M)\n",
    "K = np.zeros((M,M))\n",
    "\n",
    "# calculate element stiffness matrix\n",
    "for i in range(N):\n",
    "    # calculate element stiffness matrix for element #i\n",
    "    Kel = calc_Kel(Lel)\n",
    "    # insert element stiffness matrix into system stiffness matrix\n",
    "    K[2*i:2*i+3,2*i:2*i+3] += Kel  \n",
    "\n",
    "print('System stiffness matrix for ',N,'elements:\\n', K)\n",
    "\n",
    "# Apply boundary conditions\n",
    "u[0] = 0.\n",
    "u[M-1] = np.sum(Lel)*0.01  # apply 1% of total strain\n",
    "\n",
    "for i in range(1,M-1):\n",
    "    # Reduce rank of system of equations for given displacement BC\n",
    "    F[i] -= K[i,0]*u[0]  \n",
    "    F[i] -= K[i,M-1]*u[M-1]\n",
    "    \n",
    "# Solve reduced system of equations\n",
    "u[1:M-1] = np.linalg.solve(K[1:M-1,1:M-1], F[1:M-1])\n",
    "print('After solving reduced system of equations:')\n",
    "print('u: ',u, '\\nF: ',F)\n",
    "F = K@u # calculate reaction force\n",
    "print('After calculation of reaction forces:')\n",
    "print('u: ',u, '\\nF: ',F)"
   ]
  },
  {
   "cell_type": "markdown",
   "metadata": {},
   "source": [
    "## Answer:\n",
    "\n",
    "Fill in your answer here."
   ]
  },
  {
   "cell_type": "markdown",
   "metadata": {},
   "source": [
    "## Task 3\n",
    "\n",
    "Fill in the missing code segments marked by \"...\" for the definition of strain and stress. This task refers to the script, Section 2.4, Eqs. (28) and (29). Compare the stress obtained for a uniaxial strain of 1% to the value in your solution of Assignment 1."
   ]
  },
  {
   "cell_type": "code",
   "execution_count": 5,
   "metadata": {},
   "outputs": [
    {
     "name": "stdout",
     "output_type": "stream",
     "text": [
      "Strain tensor in element # 0 : eps = ( [0.01 0.   0.   0.   0.   0.  ] )\n",
      "Stress tensor in element # 0 : sig = ( [2692. 1154. 1154.    0.    0.    0.] ) MPa\n"
     ]
    }
   ],
   "source": [
    "'Calculate stress and strain'\n",
    "xi = 0.5\n",
    "for i in range(N):\n",
    "    L = Lel\n",
    "    x = xi*L\n",
    "    B = Bmatrix(x,L)\n",
    "    eps = ... @ u[2*i:2*i+3]\n",
    "    sig = ... @ eps\n",
    "    print('Strain tensor in element #', i, ': eps = (', eps,')')\n",
    "    print('Stress tensor in element #', i, ': sig = (', sig,') MPa')\n"
   ]
  },
  {
   "cell_type": "markdown",
   "metadata": {},
   "source": [
    "## Answer: \n",
    "\n",
    "Fill in your answer here."
   ]
  },
  {
   "cell_type": "markdown",
   "metadata": {},
   "source": [
    "## Task 4\n",
    "\n",
    "Use the `pyLabFEA` package to setup a 1-d model for a material with the elastic constants of Assignment 1 and apply a uniaxial strain of 1%. The online documentation for the `pyLabFEA` package is avaiable under https://ahartmaier.github.io/pyLabFEA/ and also on the Moodle course. The package needs to be downloaded and installed from https://github.com/AHartmaier/pyLabFEA.git or with the ZIP acrchive in the Moodle course. Please to go through the tutorial contained in the Jupyter notebook ``pyLabFEA_Introduction.ipynb`` before completing this task. Compare the results for the stress tensor obtained with the pyLabFEA model to the results of the simple model above. What is the unit of the nodal forces?"
   ]
  },
  {
   "cell_type": "code",
   "execution_count": null,
   "metadata": {},
   "outputs": [],
   "source": [
    "import pylabfea as FE\n",
    "\n",
    "# Define model parameters\n",
    "E  = ...     # Young's modulus in MPa\n",
    "nu = 0.3     # Poisson ratio\n",
    "length = 1.  # total length of model im mm\n",
    "Nel = 1      # number of elements\n",
    "\n",
    "# Define material\n",
    "mat = FE.Material()\n",
    "mat.elasticity(E=E, nu=nu)\n",
    "print('Elastic constants: C11=%6.2fGPa, C12=%6.2fGPa, C44=%6.2fGPa'\n",
    "      %(mat.C11*1e-3, mat.C12*1e-3, mat.C44*1e-3))\n",
    "\n",
    "# Define finite element model\n",
    "fem = FE.Model()\n",
    "fem.geom([length])\n",
    "fem.assign([mat])\n",
    "fem.bcleft(0.)\n",
    "# apply displacement on rhs node corresponding to 1% total strain\n",
    "fem.bcright(0.01*fem.lenx, 'disp') \n",
    "# mesh 1-d model with one element with quadratic shape function\n",
    "fem.mesh(NX=Nel, SF=2)\n",
    "# solve equations for mechanical equilibrium under given BC\n",
    "fem.solve()\n",
    "print('\\nNodal displacements u = ', fem.u.round(decimals=4), 'mm')\n",
    "print('Nodal forces f = ',fem.f.round(decimals=2),'unit???')\n",
    "print('Element strain eps_1 = ',\n",
    "      [element.eps[0].round(decimals=2) for element in fem.element])\n",
    "print('Element stress sig_1 = ',\n",
    "      [element.sig[0].round(decimals=2) for element in fem.element],'MPa')\n",
    "print('Voigt strain tensor for element #0 = ',\n",
    "      fem.element[0].eps.round(decimals=2))\n",
    "print('Voigt stress tensor for element #0 = ',\n",
    "      fem.element[0].sig.round(decimals=2),'MPa')\n",
    "\n",
    "print('\\nGraphical output of model with magnification factor 1')\n",
    "fem.plot('strain1', mag=1)\n"
   ]
  },
  {
   "cell_type": "markdown",
   "metadata": {},
   "source": [
    "## Answer:\n",
    "\n",
    "Fill in your answer here."
   ]
  },
  {
   "cell_type": "markdown",
   "metadata": {},
   "source": [
    "## Task 5\n",
    "\n",
    "Create a 2-D plane strain finite element model (standard setting) and apply the strain boundary conditions (BC) of Assignment 1, Task 3b (only the first two loading states can be applied, because simple shear boundary conditions are not yet implemented in `pyLabFEA`). Which kind of BC (`'disp'` or `'force'`) do you need to apply to the model in order to get uniaxial or biaxial strains? Compare the results to those of the assignment and the 1-d model above."
   ]
  },
  {
   "cell_type": "code",
   "execution_count": null,
   "metadata": {},
   "outputs": [],
   "source": [
    "# Define 2-d plane strain finite element model (standard setting)\n",
    "f2d = FE.Model(dim=2)\n",
    "f2d.geom([length])\n",
    "f2d.assign([mat])\n",
    "\n",
    "# Load case 1\n",
    "ubc = ...       # boundary node displacement corresponding to 1% of strain\n",
    "bctype = ...    # type of BC 'force' or 'disp'\n",
    "f2d.bcleft(0.)   # displacement BC at left boundary\n",
    "f2d.bcbot(0.)    # displacement BC at bottom boundary\n",
    "f2d.bcright(ubc, bctype) # apply displacement on rhs node corresponding to 1% total strain\n",
    "f2d.bctop(0., bctype)\n",
    "f2d.mesh(NX=2, NY=2)   # mesh 2-d model with 4 quadrilateral elements with linear shape function\n",
    "f2d.solve() \n",
    "print('\\n2-d Model: uniaxial strain')\n",
    "print('Global strain: ',f2d.glob['eps'][0].round(decimals=4))\n",
    "print('Element strain: ', f2d.element[0].eps.round(decimals=4))\n",
    "print('Global stress: ',f2d.glob['sig'][0].round(decimals=2),'MPa')\n",
    "print('Element stress: ', f2d.element[0].sig.round(decimals=2),'MPa')\n",
    "\n",
    "f2d.plot('strain1', mag=100)\n",
    "f2d.plot('stress1', mag=100)\n",
    "\n",
    "# Load case 2\n",
    "f2d.u = None  # reset solution\n",
    "f2d.bcleft(0.)\n",
    "f2d.bcbot(0.)\n",
    "f2d.bcright(ubc/np.sqrt(2.), bctype) # apply displacement on rhs node corresponding to 1% total strain\n",
    "f2d.bctop(ubc/np.sqrt(2.),bctype)\n",
    "f2d.mesh(NX=2, NY=2)   # mesh 2-d model with 4 quadrilateral elements with linear shape function\n",
    "f2d.solve() \n",
    "print('\\n2-d Model: biaxial strain')\n",
    "print('Global strain: ',f2d.glob['eps'][0].round(decimals=4))\n",
    "print('Element strain: ', f2d.element[0].eps.round(decimals=4))\n",
    "print('Global stress: ',f2d.glob['sig'][0].round(decimals=2),'MPa')\n",
    "print('Element stress: ', f2d.element[0].sig.round(decimals=2),'MPa')\n",
    "\n",
    "f2d.plot('strain1', mag=100)\n",
    "f2d.plot('stress1', mag=100)\n"
   ]
  },
  {
   "cell_type": "markdown",
   "metadata": {},
   "source": [
    "## Answer:\n",
    "\n",
    "Fill in your answer here."
   ]
  },
  {
   "cell_type": "markdown",
   "metadata": {},
   "source": [
    "## Task 6\n",
    "\n",
    "Create a 2-D finite element model with plane stress conditions and apply the stress boundary conditions (BC) of Assignment 1, Task 3a (only the first two loading states can be applied, because shear boundary conditions are not yet implemented in `pyLabFEA`). Which kind of BC (`'disp'` or `'force'`) do you need to apply to the model get uniaxial or biaxial stresses? Why is a plane stress condition used here? Compare the results to those of the assignment."
   ]
  },
  {
   "cell_type": "code",
   "execution_count": null,
   "metadata": {},
   "outputs": [],
   "source": [
    "# Define 2-d plane stress finite element model\n",
    "f2d = FE.Model(dim=2, planestress=True)\n",
    "f2d.geom([length])\n",
    "f2d.assign([mat])\n",
    "\n",
    "# load case 1\n",
    "sig0 = 100. # stress to be applied\n",
    "A = f2d.leny*f2d.thick   # cross-sectional area of model (can be changed in geom)\n",
    "F0 = ...     # force required to get desired stress\n",
    "bctype = ... # type of BC 'force' or 'disp'\n",
    "f2d.bcleft(0.)   # displacement BC at left boundary\n",
    "f2d.bcbot(0.)    # displacement BC at bottom boundary\n",
    "f2d.bcright(F0, bctype) # apply BC 100 MPa\n",
    "f2d.bctop(0., bctype)\n",
    "f2d.mesh(NX=2, NY=2)   # mesh 2-d model with 4 quadrilateral elements with linear shape function\n",
    "f2d.solve() \n",
    "print('\\n2-d Model: uniaxial stress')\n",
    "print('Global strain: ',f2d.glob['eps'][0].round(decimals=4))\n",
    "print('Element strain: ', f2d.element[0].eps.round(decimals=4))\n",
    "print('Global stress: ',f2d.glob['sig'][0].round(decimals=2),'MPa')\n",
    "print('Element stress: ', f2d.element[0].sig.round(decimals=2),'MPa')\n",
    "\n",
    "f2d.plot('strain1', mag=100)\n",
    "f2d.plot('stress1', mag=100)\n",
    "\n",
    "# Load case 2\n",
    "f2d.u = None  # reset solution\n",
    "f2d.bcleft(0.)\n",
    "f2d.bcbot(0.)\n",
    "f2d.bcright(F0, bctype) # apply force to nodes on right\n",
    "f2d.bctop(F0, bctype)   # apply force to nodes on top\n",
    "f2d.mesh(NX=2, NY=2)   # mesh 2-d model with 4 quadrilateral elements with linear shape function\n",
    "f2d.solve() \n",
    "print('\\n2-d Model: biaxial stress')\n",
    "print('Global strain: ',f2d.glob['eps'][0].round(decimals=7))\n",
    "print('Element strain: ', f2d.element[0].eps.round(decimals=7))\n",
    "print('Global stress: ',f2d.glob['sig'][0].round(decimals=2),'MPa')\n",
    "print('Element stress: ', f2d.element[0].sig.round(decimals=2),'MPa')\n",
    "\n",
    "f2d.plot('strain1', mag=100)\n",
    "f2d.plot('stress1', mag=100)\n"
   ]
  },
  {
   "cell_type": "markdown",
   "metadata": {},
   "source": [
    "## Answer:\n",
    "\n",
    "Fill in your answer here."
   ]
  }
 ],
 "metadata": {
  "kernelspec": {
   "display_name": "Python 3 (ipykernel)",
   "language": "python",
   "name": "python3"
  },
  "language_info": {
   "codemirror_mode": {
    "name": "ipython",
    "version": 3
   },
   "file_extension": ".py",
   "mimetype": "text/x-python",
   "name": "python",
   "nbconvert_exporter": "python",
   "pygments_lexer": "ipython3",
   "version": "3.7.11"
  }
 },
 "nbformat": 4,
 "nbformat_minor": 4
}
