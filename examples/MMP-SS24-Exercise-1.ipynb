{
 "cells": [
  {
   "cell_type": "markdown",
   "metadata": {},
   "source": [
    "# Network of springs\n",
    "Solve equations to calculate mechanical equilibrium in network of springs. The theoretical background of the exercise is covered in Section 2.1 of the script to this lecture."
   ]
  },
  {
   "cell_type": "code",
   "execution_count": 41,
   "metadata": {},
   "outputs": [],
   "source": [
    "import numpy as np\n",
    "np.set_printoptions(formatter={'float': '{: >10.3f}'.format})"
   ]
  },
  {
   "cell_type": "markdown",
   "metadata": {},
   "source": [
    "## Task 1\n",
    "Fill in the missing code segments marked by \"...\" and set the spring constant ``ka`` to the last two digits of your student number"
   ]
  },
  {
   "cell_type": "code",
   "execution_count": 42,
   "metadata": {},
   "outputs": [
    {
     "name": "stdout",
     "output_type": "stream",
     "text": [
      "System stiffness matrix:\n",
      " [[    64.000    -64.000      0.000]\n",
      " [   -64.000     96.000    -32.000]\n",
      " [     0.000    -32.000     32.000]]\n",
      "After solving reduced system of equations:\n",
      " u:  [     0.000      1.562      4.687] \n",
      "F:  [     0.000      0.000    100.000]\n",
      "After calculation of reaction forces:\n",
      " u:  [     0.000      1.562      4.687] \n",
      "F:  [  -100.000      0.000    100.000]\n"
     ]
    }
   ],
   "source": [
    "# Initialize variables\n",
    "F = np.zeros(3) # [0, 0, 0]\n",
    "u = np.zeros(3) # [0, 0, 0]\n",
    "K = np.zeros((3, 3)) \n",
    "\n",
    "# Define stiffness matrix\n",
    "# XY are last two digits of your student number (if zero, use XY=20)\n",
    "XY = 64\n",
    "ka = XY       # spring constant a (unit 1 N/mm)\n",
    "kb = 0.5*ka   # spring constant b (unit 1 N/mm)\n",
    "\n",
    "# stiffness matrix of spring 1\n",
    "ks1 = np.array([[ka, -ka, 0],\n",
    "                [-ka, ka, 0],\n",
    "                [0, 0, 0]])   \n",
    "\n",
    "# Missing code segments:\n",
    "# Stiffness matrix of spring 2\n",
    "ks2 = np.array([[0, 0, 0],\n",
    "                [0, kb, -kb],\n",
    "                [0, -kb, kb]])   \n",
    "\n",
    "# system stiffness matrix\n",
    "K = np.array([[ka, -ka, 0],\n",
    "                [-ka, ka+kb, -kb],\n",
    "                [0, -kb, kb]])  \n",
    "print('System stiffness matrix:\\n', K)\n",
    "\n",
    "# Apply boundary conditions\n",
    "F[2] = 100.\n",
    "u[0] = 0.\n",
    "for i in range(1, 3):\n",
    "    # Reduce rank of system of equations for given displacement BC\n",
    "    F[i] -= K[i, 0] * u[0]\n",
    "\n",
    "# Solve reduced system of equations\n",
    "u[1:3] = np.linalg.solve(K[1:3, 1:3], F[1:3])\n",
    "print('After solving reduced system of equations:\\n',\n",
    "      'u: ', u, '\\nF: ', F)\n",
    "\n",
    "F = K@u # calculate reaction forces\n",
    "print('After calculation of reaction forces:\\n',\n",
    "      'u: ', u, '\\nF: ', F)"
   ]
  },
  {
   "cell_type": "markdown",
   "metadata": {},
   "source": [
    "## Task 2\n",
    "Fill in the missing code segment, to apply a displacement of u=15 at the rhs node instead of the force BC."
   ]
  },
  {
   "cell_type": "code",
   "execution_count": 43,
   "metadata": {},
   "outputs": [
    {
     "name": "stdout",
     "output_type": "stream",
     "text": [
      "After solving reduced system of equations:\n",
      " u:  [     0.000      5.000     15.000] \n",
      "F:  [     0.000    480.000      0.000]\n",
      "After calculation of reaction forces:\n",
      " u:  [     0.000      5.000     15.000] \n",
      "F:  [  -320.000      0.000    320.000]\n"
     ]
    }
   ],
   "source": [
    "# Apply boundary conditions\n",
    "u[0] = 0.   # displacement (unit 1mm)\n",
    "u[2] = 15.  # displacement (unit 1mm)\n",
    "\n",
    "F = np.zeros(3)\n",
    "\n",
    "for i in range(1, 2):\n",
    "    # Missing code segment:\n",
    "    # Reduce rank of system of equations for given displacement BC\n",
    "      F[i] -= K[i, 0] * u[0]\n",
    "      F[i] -= K[i, 2] * u[2]\n",
    "\n",
    "    \n",
    "# Solve reduced system of equations\n",
    "u[1:2] = np.linalg.solve(K[1:2, 1:2], F[1:2])\n",
    "print('After solving reduced system of equations:\\n',\n",
    "      'u: ',u, '\\nF: ',F)\n",
    "\n",
    "F = K@u # Calculate reaction force\n",
    "print('After calculation of reaction forces:\\n',\n",
    "      'u: ',u, '\\nF: ',F)"
   ]
  },
  {
   "cell_type": "markdown",
   "metadata": {},
   "source": [
    "## Task 3\n",
    "Setup a system for an arbitrary number N springs (use N=4 as example, and take random spring constants in the range 10N/mm to 100N/mm). Calculate the nodal forces and displacements under mechanical equilibrium under the same boundary conditions as in Task 2."
   ]
  },
  {
   "cell_type": "code",
   "execution_count": 44,
   "metadata": {},
   "outputs": [
    {
     "name": "stdout",
     "output_type": "stream",
     "text": [
      "System stiffness matrix:\n",
      " [[    79.656    -79.656      0.000      0.000      0.000]\n",
      " [   -79.656    129.155    -49.499      0.000      0.000]\n",
      " [     0.000    -49.499    136.773    -87.274      0.000]\n",
      " [     0.000      0.000    -87.274    160.037    -72.763]\n",
      " [     0.000      0.000      0.000    -72.763     72.763]]\n",
      "After solving reduced system of equations:\n",
      "\n",
      "[     0.000      0.000      0.000      0.000     15.000]\n",
      "[     0.000      0.000      0.000      0.000      0.000]\n",
      "After calculation of reaction forces:\n",
      "\n",
      "[     0.000      0.000      0.000      0.000     15.000]\n",
      "[     0.000      0.000      0.000  -1091.447   1091.447]\n"
     ]
    }
   ],
   "source": [
    "def setupK(N):\n",
    "    \"\"\"\n",
    "    Setup a stiffness matrix for N springs, i.e. N+1 nodes\n",
    "    \n",
    "    N : integer, referring to the number of springs\n",
    "    \"\"\"\n",
    "    K = np.zeros((N+1, N+1))\n",
    "    # Initialize rand number generator\n",
    "    rng = np.random.default_rng(42)\n",
    "    # Calculate random spring constants in range 10-100\n",
    "    k0 = 10. + rng.random(N) * 90.  \n",
    "    for i in range(N):\n",
    "        # Missing code segment:\n",
    "        # Insert spring stiffness matrix into system stiffness matrix\n",
    "        K[i:i+2, i:i+2] += np.array([[k0[i],-k0[i]],[-k0[i],k0[i]]])\n",
    "        \n",
    "    return K\n",
    "\n",
    "# Initialize system arrays and setup stiffness matrix K\n",
    "N = 4\n",
    "F = np.zeros(N+1)\n",
    "u = np.zeros(N+1)\n",
    "K = setupK(N)\n",
    "print('System stiffness matrix:\\n', K)\n",
    "\n",
    "# Apply boundary conditions\n",
    "u[0] = 0.\n",
    "u[N] = 15.\n",
    "\n",
    "for i in range(1,N):\n",
    "    # Missing code segments:\n",
    "    #F[i] ...    # reduce rank of system of equations for given displacement BC\n",
    "    F[i] -= K[i, 0] * u[0]\n",
    "    F[i] -= K[i, 2] * u[2]\n",
    "                                     \n",
    "# Solve reduced system of equations\n",
    "u[1:N] = np.linalg.solve(K[1:N, 1:N], F[1:N])\n",
    "print('After solving reduced system of equations:\\n')#,\n",
    "#       'u: ',u, '\\nF: ',F)\n",
    "print(u)\n",
    "print(F)\n",
    "\n",
    "F = K@u # calculate reaction force\n",
    "print('After calculation of reaction forces:\\n')#,'u: ',u, '\\nF: ',F)\n",
    "print(u)\n",
    "print(F)\n"
   ]
  },
  {
   "cell_type": "code",
   "execution_count": null,
   "metadata": {},
   "outputs": [],
   "source": []
  }
 ],
 "metadata": {
  "kernelspec": {
   "display_name": "Python 3 (ipykernel)",
   "language": "python",
   "name": "python3"
  },
  "language_info": {
   "codemirror_mode": {
    "name": "ipython",
    "version": 3
   },
   "file_extension": ".py",
   "mimetype": "text/x-python",
   "name": "python",
   "nbconvert_exporter": "python",
   "pygments_lexer": "ipython3",
   "version": "3.9.6"
  }
 },
 "nbformat": 4,
 "nbformat_minor": 4
}
